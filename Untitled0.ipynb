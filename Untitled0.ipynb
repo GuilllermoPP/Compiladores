{
  "nbformat": 4,
  "nbformat_minor": 0,
  "metadata": {
    "colab": {
      "provenance": [],
      "authorship_tag": "ABX9TyNIk1HsjUTOiQhuY6QsR1G8",
      "include_colab_link": true
    },
    "kernelspec": {
      "name": "python3",
      "display_name": "Python 3"
    },
    "language_info": {
      "name": "python"
    }
  },
  "cells": [
    {
      "cell_type": "markdown",
      "metadata": {
        "id": "view-in-github",
        "colab_type": "text"
      },
      "source": [
        "<a href=\"https://colab.research.google.com/github/GuilllermoPP/Compiladores/blob/main/Untitled0.ipynb\" target=\"_parent\"><img src=\"https://colab.research.google.com/assets/colab-badge.svg\" alt=\"Open In Colab\"/></a>"
      ]
    },
    {
      "cell_type": "code",
      "execution_count": 52,
      "metadata": {
        "colab": {
          "base_uri": "https://localhost:8080/"
        },
        "id": "xGUh9Pl5Mo53",
        "outputId": "b83efebf-1ef1-4a5d-b682-0c6fcfb70466"
      },
      "outputs": [
        {
          "output_type": "stream",
          "name": "stdout",
          "text": [
            "Cadena 1: aaba - La cadena no es aceptada.\n",
            "Cadena 2: aabb - La cadena es aceptada.\n"
          ]
        }
      ],
      "source": [
        "class Automata:\n",
        "    def __init__(self):\n",
        "        self.estado_actual = 0\n",
        "        self.estados_finales = {3, 6, 11, 14, 18, 20, 22, 24, 26, 28}\n",
        "        self.trancition ={\n",
        "        0:{'a':1,'b':20},\n",
        "        1:{'a':2,'b':3},\n",
        "        2:{'a':5,'b':4},\n",
        "        4:{'a':7,'b':6},\n",
        "        7:{'a':8,'b':9},\n",
        "        9:{'a':10,'b':11},\n",
        "        10:{'a':12,'b':13},\n",
        "        13:{'a':15,'b':14},\n",
        "        15:{'a':16,'b':17},\n",
        "        17:{'a':19,'b':18},\n",
        "        20:{'a':22,'b':21},\n",
        "        22:{'a':24,'b':23},\n",
        "        24:{'a':26,'b':25},\n",
        "        26:{'a':28,'b':27}\n",
        "        }\n",
        "    def transicion(self, entrada):\n",
        "        if self.estado_actual in self.trancition:\n",
        "          self.estado_actual=self.trancition[self.estado_actual][entrada]\n",
        "        else:\n",
        "          self.estado_actual=-1\n",
        "    def reset(self):\n",
        "        self.estado_actual = 0\n",
        "\n",
        "    def es_aceptado(self):\n",
        "        return self.estado_actual in self.estados_finales\n",
        "\n",
        "def verificar_cadena(cadena):\n",
        "    automata = Automata()\n",
        "    for caracter in cadena:\n",
        "        automata.transicion(caracter)\n",
        "\n",
        "    if automata.es_aceptado():\n",
        "        return \"La cadena es aceptada.\"\n",
        "    else:\n",
        "        return \"La cadena no es aceptada.\"\n",
        "\n",
        "# Prueba del autómata con cadenas de ejemplo\n",
        "cadena1 = \"aaba\"\n",
        "cadena2 = \"aabb\"\n",
        "\n",
        "resultado1 = verificar_cadena(cadena1)\n",
        "resultado2 = verificar_cadena(cadena2)\n",
        "\n",
        "print(f\"Cadena 1: {cadena1} - {resultado1}\")\n",
        "print(f\"Cadena 2: {cadena2} - {resultado2}\")\n"
      ]
    }
  ]
}